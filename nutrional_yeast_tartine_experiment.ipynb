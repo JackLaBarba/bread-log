{
  "nbformat": 4,
  "nbformat_minor": 0,
  "metadata": {
    "colab": {
      "name": "nutrional_yeast_tartine_experiment.ipynb",
      "provenance": [],
      "toc_visible": true,
      "authorship_tag": "ABX9TyPgyOePmtlk6PLKRXxzheG8",
      "include_colab_link": true
    },
    "kernelspec": {
      "name": "python3",
      "display_name": "Python 3"
    }
  },
  "cells": [
    {
      "cell_type": "markdown",
      "metadata": {
        "id": "view-in-github",
        "colab_type": "text"
      },
      "source": [
        "<a href=\"https://colab.research.google.com/github/JackLaBarba/bread-log/blob/master/nutrional_yeast_tartine_experiment.ipynb\" target=\"_parent\"><img src=\"https://colab.research.google.com/assets/colab-badge.svg\" alt=\"Open In Colab\"/></a>"
      ]
    },
    {
      "cell_type": "code",
      "metadata": {
        "id": "mg8tcDAdzL5D",
        "colab_type": "code",
        "colab": {}
      },
      "source": [
        "import pandas as pd"
      ],
      "execution_count": 1,
      "outputs": []
    },
    {
      "cell_type": "markdown",
      "metadata": {
        "id": "B17oSkQ9_nil",
        "colab_type": "text"
      },
      "source": [
        "# The Big Idea\n",
        "\n",
        "Based on the https://www.seriouseats.com/2020/04/homemade-hand-pulled-noodles-lamian.html, I want to try using nutritional yeast as a dough relaxer in a tartine sourdough loaf. \n",
        "\n",
        "The Tartine Country Loaf recipe I normally use creates two loaves. I'll divide the loaves after autolyse, treat one as I normally do, but add nutritional yeast to the other.\n",
        "\n",
        "I'll use half the concentration of nutrional yeast as that described in the SE article, since I don't want this loaf to turn into a block of silly putty."
      ]
    },
    {
      "cell_type": "markdown",
      "metadata": {
        "id": "Jvlwe71lLCNc",
        "colab_type": "text"
      },
      "source": [
        "# The Recipe"
      ]
    },
    {
      "cell_type": "code",
      "metadata": {
        "id": "XbR5uo7TzR2z",
        "colab_type": "code",
        "colab": {
          "base_uri": "https://localhost:8080/",
          "height": 173
        },
        "outputId": "49f7b799-67e7-4f23-e3ab-e02fbffebc03"
      },
      "source": [
        "df = pd.DataFrame([\n",
        "    (\"flour\", 425), \n",
        "    (\"water\", 285),\n",
        "    (\"nooch\", 28)             \n",
        "])\n",
        "df.columns = [\"component\", \"mass (g)\"]\n",
        "df = df.set_index(\"component\")\n",
        "df[\"bakers percentage\"] = df[\"mass (g)\"] / df.loc[\"flour\"][\"mass (g)\"]\n",
        "df"
      ],
      "execution_count": 2,
      "outputs": [
        {
          "output_type": "execute_result",
          "data": {
            "text/html": [
              "<div>\n",
              "<style scoped>\n",
              "    .dataframe tbody tr th:only-of-type {\n",
              "        vertical-align: middle;\n",
              "    }\n",
              "\n",
              "    .dataframe tbody tr th {\n",
              "        vertical-align: top;\n",
              "    }\n",
              "\n",
              "    .dataframe thead th {\n",
              "        text-align: right;\n",
              "    }\n",
              "</style>\n",
              "<table border=\"1\" class=\"dataframe\">\n",
              "  <thead>\n",
              "    <tr style=\"text-align: right;\">\n",
              "      <th></th>\n",
              "      <th>mass (g)</th>\n",
              "      <th>bakers percentage</th>\n",
              "    </tr>\n",
              "    <tr>\n",
              "      <th>component</th>\n",
              "      <th></th>\n",
              "      <th></th>\n",
              "    </tr>\n",
              "  </thead>\n",
              "  <tbody>\n",
              "    <tr>\n",
              "      <th>flour</th>\n",
              "      <td>425</td>\n",
              "      <td>1.000000</td>\n",
              "    </tr>\n",
              "    <tr>\n",
              "      <th>water</th>\n",
              "      <td>285</td>\n",
              "      <td>0.670588</td>\n",
              "    </tr>\n",
              "    <tr>\n",
              "      <th>nooch</th>\n",
              "      <td>28</td>\n",
              "      <td>0.065882</td>\n",
              "    </tr>\n",
              "  </tbody>\n",
              "</table>\n",
              "</div>"
            ],
            "text/plain": [
              "           mass (g)  bakers percentage\n",
              "component                             \n",
              "flour           425           1.000000\n",
              "water           285           0.670588\n",
              "nooch            28           0.065882"
            ]
          },
          "metadata": {
            "tags": []
          },
          "execution_count": 2
        }
      ]
    },
    {
      "cell_type": "code",
      "metadata": {
        "id": "W1aqk3RY1d6j",
        "colab_type": "code",
        "colab": {
          "base_uri": "https://localhost:8080/",
          "height": 265
        },
        "outputId": "c7668eb9-0272-4b1c-9918-ad4103d79138"
      },
      "source": [
        "df[\"mass (g)\"].plot(kind=\"pie\")"
      ],
      "execution_count": 3,
      "outputs": [
        {
          "output_type": "execute_result",
          "data": {
            "text/plain": [
              "<matplotlib.axes._subplots.AxesSubplot at 0x7f71bdad8d68>"
            ]
          },
          "metadata": {
            "tags": []
          },
          "execution_count": 3
        },
        {
          "output_type": "display_data",
          "data": {
            "image/png": "[encoded data removed]",
            "text/plain": [
              "<Figure size 432x288 with 1 Axes>"
            ]
          },
          "metadata": {
            "tags": []
          }
        }
      ]
    },
    {
      "cell_type": "code",
      "metadata": {
        "id": "8l0YiIT97jO1",
        "colab_type": "code",
        "colab": {
          "base_uri": "https://localhost:8080/",
          "height": 173
        },
        "outputId": "5998b13c-c440-4635-ebc3-b25b9da12812"
      },
      "source": [
        "df_tartine_autolyse = pd.DataFrame([\n",
        "    (\"flour\", 1000), \n",
        "    (\"water\", 700),\n",
        "    (\"leaven\", 200)            \n",
        "])\n",
        "df_tartine_autolyse.columns = [\"component\", \"mass (g)\"]\n",
        "df_tartine_autolyse = df_tartine_autolyse.set_index(\"component\")\n",
        "df_tartine_autolyse['each loaf (g)'] = df_tartine_autolyse[\"mass (g)\"] / 2\n",
        "df_tartine_autolyse"
      ],
      "execution_count": 4,
      "outputs": [
        {
          "output_type": "execute_result",
          "data": {
            "text/html": [
              "<div>\n",
              "<style scoped>\n",
              "    .dataframe tbody tr th:only-of-type {\n",
              "        vertical-align: middle;\n",
              "    }\n",
              "\n",
              "    .dataframe tbody tr th {\n",
              "        vertical-align: top;\n",
              "    }\n",
              "\n",
              "    .dataframe thead th {\n",
              "        text-align: right;\n",
              "    }\n",
              "</style>\n",
              "<table border=\"1\" class=\"dataframe\">\n",
              "  <thead>\n",
              "    <tr style=\"text-align: right;\">\n",
              "      <th></th>\n",
              "      <th>mass (g)</th>\n",
              "      <th>each loaf (g)</th>\n",
              "    </tr>\n",
              "    <tr>\n",
              "      <th>component</th>\n",
              "      <th></th>\n",
              "      <th></th>\n",
              "    </tr>\n",
              "  </thead>\n",
              "  <tbody>\n",
              "    <tr>\n",
              "      <th>flour</th>\n",
              "      <td>1000</td>\n",
              "      <td>500.0</td>\n",
              "    </tr>\n",
              "    <tr>\n",
              "      <th>water</th>\n",
              "      <td>700</td>\n",
              "      <td>350.0</td>\n",
              "    </tr>\n",
              "    <tr>\n",
              "      <th>leaven</th>\n",
              "      <td>200</td>\n",
              "      <td>100.0</td>\n",
              "    </tr>\n",
              "  </tbody>\n",
              "</table>\n",
              "</div>"
            ],
            "text/plain": [
              "           mass (g)  each loaf (g)\n",
              "component                         \n",
              "flour          1000          500.0\n",
              "water           700          350.0\n",
              "leaven          200          100.0"
            ]
          },
          "metadata": {
            "tags": []
          },
          "execution_count": 4
        }
      ]
    },
    {
      "cell_type": "code",
      "metadata": {
        "id": "eQwDYzEs2ZeK",
        "colab_type": "code",
        "colab": {
          "base_uri": "https://localhost:8080/",
          "height": 34
        },
        "outputId": "6b755810-3ec6-403f-d64d-461699444589"
      },
      "source": [
        "autolyse_bread_mass = df_tartine_autolyse['mass (g)'].sum()\n",
        "autolyse_bread_mass"
      ],
      "execution_count": 5,
      "outputs": [
        {
          "output_type": "execute_result",
          "data": {
            "text/plain": [
              "1900"
            ]
          },
          "metadata": {
            "tags": []
          },
          "execution_count": 5
        }
      ]
    },
    {
      "cell_type": "code",
      "metadata": {
        "id": "fXNDdRRP8W03",
        "colab_type": "code",
        "colab": {
          "base_uri": "https://localhost:8080/",
          "height": 34
        },
        "outputId": "ef821ea6-14a1-41ff-8086-b110585a72eb"
      },
      "source": [
        "each_loaf = autolyse_bread_mass / 2\n",
        "each_loaf"
      ],
      "execution_count": 6,
      "outputs": [
        {
          "output_type": "execute_result",
          "data": {
            "text/plain": [
              "950.0"
            ]
          },
          "metadata": {
            "tags": []
          },
          "execution_count": 6
        }
      ]
    },
    {
      "cell_type": "code",
      "metadata": {
        "id": "9DYNCBz18h8M",
        "colab_type": "code",
        "colab": {
          "base_uri": "https://localhost:8080/",
          "height": 142
        },
        "outputId": "e1bf37b6-c5d9-45a4-9067-8ab3f64e6fa5"
      },
      "source": [
        "nooch_coef = 0.5 # use half of the baker's percentage of nooch as the lamian recipe\n",
        "nooch_amount = df.loc['nooch']['bakers percentage'] * df_tartine_autolyse.loc['flour']['each loaf (g)'] * nooch_coef\n",
        "\n",
        "df_tartine_nooch = pd.DataFrame([\n",
        "    (\"salt\", 10), \n",
        "    (\"water\", 25+8),\n",
        "    (\"nooch\", nooch_amount )\n",
        "])\n",
        "df_tartine_nooch.columns = [\"component\", \"mass (g)\"]\n",
        "df_tartine_nooch = df_tartine_nooch.set_index(\"component\")\n",
        "df_tartine_nooch\n",
        "\n",
        "df_tartine_reg = pd.DataFrame([\n",
        "    (\"salt\", 10), \n",
        "    (\"water\", 25),\n",
        "])\n",
        "df_tartine_reg.columns = [\"component\", \"mass (g)\"]\n",
        "df_tartine_reg = df_tartine_reg.set_index(\"component\")\n",
        "df_tartine_reg"
      ],
      "execution_count": 7,
      "outputs": [
        {
          "output_type": "execute_result",
          "data": {
            "text/html": [
              "<div>\n",
              "<style scoped>\n",
              "    .dataframe tbody tr th:only-of-type {\n",
              "        vertical-align: middle;\n",
              "    }\n",
              "\n",
              "    .dataframe tbody tr th {\n",
              "        vertical-align: top;\n",
              "    }\n",
              "\n",
              "    .dataframe thead th {\n",
              "        text-align: right;\n",
              "    }\n",
              "</style>\n",
              "<table border=\"1\" class=\"dataframe\">\n",
              "  <thead>\n",
              "    <tr style=\"text-align: right;\">\n",
              "      <th></th>\n",
              "      <th>mass (g)</th>\n",
              "    </tr>\n",
              "    <tr>\n",
              "      <th>component</th>\n",
              "      <th></th>\n",
              "    </tr>\n",
              "  </thead>\n",
              "  <tbody>\n",
              "    <tr>\n",
              "      <th>salt</th>\n",
              "      <td>10</td>\n",
              "    </tr>\n",
              "    <tr>\n",
              "      <th>water</th>\n",
              "      <td>25</td>\n",
              "    </tr>\n",
              "  </tbody>\n",
              "</table>\n",
              "</div>"
            ],
            "text/plain": [
              "           mass (g)\n",
              "component          \n",
              "salt             10\n",
              "water            25"
            ]
          },
          "metadata": {
            "tags": []
          },
          "execution_count": 7
        }
      ]
    },
    {
      "cell_type": "code",
      "metadata": {
        "id": "XB7-yLpX9rw3",
        "colab_type": "code",
        "colab": {
          "base_uri": "https://localhost:8080/",
          "height": 235
        },
        "outputId": "26302681-11ce-460b-e652-0d909ebc7028"
      },
      "source": [
        "combined = pd.merge(df_tartine_autolyse, df_tartine_nooch, how=\"outer\", \n",
        "                    left_index=True, right_index=True)\n",
        "combined = pd.merge(combined, df_tartine_reg, how=\"outer\", \n",
        "                    left_index=True, right_index=True)\n",
        "combined.columns = [\n",
        "    \"both loaves autolyse (g)\", \n",
        "    \"each loaf autolyse (g)\", \n",
        "    \"nooch loaf post autolyse (g)\",\n",
        "    \"reg loaf post autolyse (g)\"\n",
        "]\n",
        "combined"
      ],
      "execution_count": 8,
      "outputs": [
        {
          "output_type": "execute_result",
          "data": {
            "text/html": [
              "<div>\n",
              "<style scoped>\n",
              "    .dataframe tbody tr th:only-of-type {\n",
              "        vertical-align: middle;\n",
              "    }\n",
              "\n",
              "    .dataframe tbody tr th {\n",
              "        vertical-align: top;\n",
              "    }\n",
              "\n",
              "    .dataframe thead th {\n",
              "        text-align: right;\n",
              "    }\n",
              "</style>\n",
              "<table border=\"1\" class=\"dataframe\">\n",
              "  <thead>\n",
              "    <tr style=\"text-align: right;\">\n",
              "      <th></th>\n",
              "      <th>both loaves autolyse (g)</th>\n",
              "      <th>each loaf autolyse (g)</th>\n",
              "      <th>nooch loaf post autolyse (g)</th>\n",
              "      <th>reg loaf post autolyse (g)</th>\n",
              "    </tr>\n",
              "    <tr>\n",
              "      <th>component</th>\n",
              "      <th></th>\n",
              "      <th></th>\n",
              "      <th></th>\n",
              "      <th></th>\n",
              "    </tr>\n",
              "  </thead>\n",
              "  <tbody>\n",
              "    <tr>\n",
              "      <th>flour</th>\n",
              "      <td>1000.0</td>\n",
              "      <td>500.0</td>\n",
              "      <td>NaN</td>\n",
              "      <td>NaN</td>\n",
              "    </tr>\n",
              "    <tr>\n",
              "      <th>leaven</th>\n",
              "      <td>200.0</td>\n",
              "      <td>100.0</td>\n",
              "      <td>NaN</td>\n",
              "      <td>NaN</td>\n",
              "    </tr>\n",
              "    <tr>\n",
              "      <th>nooch</th>\n",
              "      <td>NaN</td>\n",
              "      <td>NaN</td>\n",
              "      <td>16.470588</td>\n",
              "      <td>NaN</td>\n",
              "    </tr>\n",
              "    <tr>\n",
              "      <th>salt</th>\n",
              "      <td>NaN</td>\n",
              "      <td>NaN</td>\n",
              "      <td>10.000000</td>\n",
              "      <td>10.0</td>\n",
              "    </tr>\n",
              "    <tr>\n",
              "      <th>water</th>\n",
              "      <td>700.0</td>\n",
              "      <td>350.0</td>\n",
              "      <td>33.000000</td>\n",
              "      <td>25.0</td>\n",
              "    </tr>\n",
              "  </tbody>\n",
              "</table>\n",
              "</div>"
            ],
            "text/plain": [
              "           both loaves autolyse (g)  ...  reg loaf post autolyse (g)\n",
              "component                            ...                            \n",
              "flour                        1000.0  ...                         NaN\n",
              "leaven                        200.0  ...                         NaN\n",
              "nooch                           NaN  ...                         NaN\n",
              "salt                            NaN  ...                        10.0\n",
              "water                         700.0  ...                        25.0\n",
              "\n",
              "[5 rows x 4 columns]"
            ]
          },
          "metadata": {
            "tags": []
          },
          "execution_count": 8
        }
      ]
    },
    {
      "cell_type": "markdown",
      "metadata": {
        "id": "xSafyUvcK9F_",
        "colab_type": "text"
      },
      "source": [
        "# Log"
      ]
    },
    {
      "cell_type": "code",
      "metadata": {
        "id": "P_DqKBJu-YNu",
        "colab_type": "code",
        "colab": {
          "base_uri": "https://localhost:8080/",
          "height": 390
        },
        "outputId": "bad34129-38b8-4d09-c928-20cd4900bb42"
      },
      "source": [
        "import numpy as np\n",
        "timings = pd.DataFrame([\n",
        "    ('Leaven Mixed', \n",
        "     pd.Timestamp('2020-06-26 20:00:00', tz='US/Eastern'), \n",
        "     75, \n",
        "     np.NaN, ),              \n",
        "    ('Dough mixed', \n",
        "     pd.Timestamp('2020-06-27 09:00:00', tz='US/Eastern'), \n",
        "     75, \n",
        "     np.NaN, ),\n",
        "    ('Final dough mixed', \n",
        "     pd.Timestamp('2020-06-27 10:00:00', tz='US/Eastern'), \n",
        "     80, \n",
        "     77, \n",
        "     \"\"\"\n",
        "     Split dough in two: one regular tartine recipe, other nooch loaf. I added\n",
        "     8g water on the fly to the nooch loaf since the nooch seemed to soak up\n",
        "     a fair amount of water, and lead to a dough that felt less hydrated. 8g\n",
        "     gave me a dough that felt similar to the control loaf, as determined by\n",
        "     its feel while mixing. Nooch loaf is slightly yellow, and already feels\n",
        "     a little more extensible than control.\n",
        "     \"\"\".strip()),\n",
        "    ('Turn 1', \n",
        "     pd.Timestamp('2020-06-27 10:33:00', tz='US/Eastern'), \n",
        "     78, \n",
        "     78, \n",
        "     \"\"\"\n",
        "     \"\"\".strip()),\n",
        "    ('Turn 2', \n",
        "     pd.Timestamp('2020-06-27 11:09:00', tz='US/Eastern'), \n",
        "     78, \n",
        "     78, \n",
        "     \"\"\"\n",
        "     \"\"\".strip()),\n",
        "    ('Turn 3', \n",
        "     pd.Timestamp('2020-06-27 11:54:00', tz='US/Eastern'), \n",
        "     78, \n",
        "     78, \n",
        "     \"\"\"\n",
        "     \"\"\".strip()),\n",
        "    ('Turn 4', \n",
        "     pd.Timestamp('2020-06-27 12:51:00', tz='US/Eastern'), \n",
        "     79, \n",
        "     78, \n",
        "     \"\"\"\n",
        "     \"\"\".strip()),\n",
        "    ('First shaping', \n",
        "     pd.Timestamp('2020-06-27 14:13:00', tz='US/Eastern'), \n",
        "     79, \n",
        "     78, \n",
        "     \"\"\"\n",
        "     Nooch dough is a little slack--less elastic than control. Control still\n",
        "     maintained some shape from final turn, but nooch didn't.\n",
        "     \"\"\".strip()),\n",
        "    ('Final shaping', \n",
        "     pd.Timestamp('2020-06-27 14:25:00', tz='US/Eastern'), \n",
        "     79, \n",
        "     78, \n",
        "     \"\"\"\n",
        "     Nooch dough has less structure. Stickier than control.\n",
        "     \"\"\".strip()),\n",
        "    ('Baking Nooch loaf', \n",
        "     pd.Timestamp('2020-06-27 17:50:00', tz='US/Eastern'), \n",
        "     79, \n",
        "     78, \n",
        "     \"\"\"\n",
        "     Nooch loaf had risen to fill banneton. Got a little stuck to the towel.\n",
        "     A little goopy. We'll see...\n",
        "     \"\"\".strip()),\n",
        "])\n",
        "timings.columns = ['step', 'time', 'ambient temp (F)', 'dough temp (F)', 'note']\n",
        "timings['step duration'] = (timings['time'].shift(periods=-1) - timings['time'])\n",
        "timings = timings.set_index('time')\n",
        "timings"
      ],
      "execution_count": 10,
      "outputs": [
        {
          "output_type": "execute_result",
          "data": {
            "text/html": [
              "<div>\n",
              "<style scoped>\n",
              "    .dataframe tbody tr th:only-of-type {\n",
              "        vertical-align: middle;\n",
              "    }\n",
              "\n",
              "    .dataframe tbody tr th {\n",
              "        vertical-align: top;\n",
              "    }\n",
              "\n",
              "    .dataframe thead th {\n",
              "        text-align: right;\n",
              "    }\n",
              "</style>\n",
              "<table border=\"1\" class=\"dataframe\">\n",
              "  <thead>\n",
              "    <tr style=\"text-align: right;\">\n",
              "      <th></th>\n",
              "      <th>step</th>\n",
              "      <th>ambient temp (F)</th>\n",
              "      <th>dough temp (F)</th>\n",
              "      <th>note</th>\n",
              "      <th>step duration</th>\n",
              "    </tr>\n",
              "    <tr>\n",
              "      <th>time</th>\n",
              "      <th></th>\n",
              "      <th></th>\n",
              "      <th></th>\n",
              "      <th></th>\n",
              "      <th></th>\n",
              "    </tr>\n",
              "  </thead>\n",
              "  <tbody>\n",
              "    <tr>\n",
              "      <th>2020-06-26 20:00:00-04:00</th>\n",
              "      <td>Leaven Mixed</td>\n",
              "      <td>75</td>\n",
              "      <td>NaN</td>\n",
              "      <td>None</td>\n",
              "      <td>13:00:00</td>\n",
              "    </tr>\n",
              "    <tr>\n",
              "      <th>2020-06-27 09:00:00-04:00</th>\n",
              "      <td>Dough mixed</td>\n",
              "      <td>75</td>\n",
              "      <td>NaN</td>\n",
              "      <td>None</td>\n",
              "      <td>01:00:00</td>\n",
              "    </tr>\n",
              "    <tr>\n",
              "      <th>2020-06-27 10:00:00-04:00</th>\n",
              "      <td>Final dough mixed</td>\n",
              "      <td>80</td>\n",
              "      <td>77.0</td>\n",
              "      <td>Split dough in two: one regular tartine recipe...</td>\n",
              "      <td>00:33:00</td>\n",
              "    </tr>\n",
              "    <tr>\n",
              "      <th>2020-06-27 10:33:00-04:00</th>\n",
              "      <td>Turn 1</td>\n",
              "      <td>78</td>\n",
              "      <td>78.0</td>\n",
              "      <td></td>\n",
              "      <td>00:36:00</td>\n",
              "    </tr>\n",
              "    <tr>\n",
              "      <th>2020-06-27 11:09:00-04:00</th>\n",
              "      <td>Turn 2</td>\n",
              "      <td>78</td>\n",
              "      <td>78.0</td>\n",
              "      <td></td>\n",
              "      <td>00:45:00</td>\n",
              "    </tr>\n",
              "    <tr>\n",
              "      <th>2020-06-27 11:54:00-04:00</th>\n",
              "      <td>Turn 3</td>\n",
              "      <td>78</td>\n",
              "      <td>78.0</td>\n",
              "      <td></td>\n",
              "      <td>00:57:00</td>\n",
              "    </tr>\n",
              "    <tr>\n",
              "      <th>2020-06-27 12:51:00-04:00</th>\n",
              "      <td>Turn 4</td>\n",
              "      <td>79</td>\n",
              "      <td>78.0</td>\n",
              "      <td></td>\n",
              "      <td>01:22:00</td>\n",
              "    </tr>\n",
              "    <tr>\n",
              "      <th>2020-06-27 14:13:00-04:00</th>\n",
              "      <td>First shaping</td>\n",
              "      <td>79</td>\n",
              "      <td>78.0</td>\n",
              "      <td>Nooch dough is a little slack--less elastic th...</td>\n",
              "      <td>00:12:00</td>\n",
              "    </tr>\n",
              "    <tr>\n",
              "      <th>2020-06-27 14:25:00-04:00</th>\n",
              "      <td>Final shaping</td>\n",
              "      <td>79</td>\n",
              "      <td>78.0</td>\n",
              "      <td>Nooch dough has less structure. Stickier than ...</td>\n",
              "      <td>03:25:00</td>\n",
              "    </tr>\n",
              "    <tr>\n",
              "      <th>2020-06-27 17:50:00-04:00</th>\n",
              "      <td>Baking Nooch loaf</td>\n",
              "      <td>79</td>\n",
              "      <td>78.0</td>\n",
              "      <td>Nooch loaf had risen to fill banneton. Got a l...</td>\n",
              "      <td>NaT</td>\n",
              "    </tr>\n",
              "  </tbody>\n",
              "</table>\n",
              "</div>"
            ],
            "text/plain": [
              "                                        step  ...  step duration\n",
              "time                                          ...               \n",
              "2020-06-26 20:00:00-04:00       Leaven Mixed  ...       13:00:00\n",
              "2020-06-27 09:00:00-04:00        Dough mixed  ...       01:00:00\n",
              "2020-06-27 10:00:00-04:00  Final dough mixed  ...       00:33:00\n",
              "2020-06-27 10:33:00-04:00             Turn 1  ...       00:36:00\n",
              "2020-06-27 11:09:00-04:00             Turn 2  ...       00:45:00\n",
              "2020-06-27 11:54:00-04:00             Turn 3  ...       00:57:00\n",
              "2020-06-27 12:51:00-04:00             Turn 4  ...       01:22:00\n",
              "2020-06-27 14:13:00-04:00      First shaping  ...       00:12:00\n",
              "2020-06-27 14:25:00-04:00      Final shaping  ...       03:25:00\n",
              "2020-06-27 17:50:00-04:00  Baking Nooch loaf  ...            NaT\n",
              "\n",
              "[10 rows x 5 columns]"
            ]
          },
          "metadata": {
            "tags": []
          },
          "execution_count": 10
        }
      ]
    },
    {
      "cell_type": "markdown",
      "metadata": {
        "id": "kW7NfHZKCNx8",
        "colab_type": "text"
      },
      "source": [
        "# Results\n",
        "\n",
        "Nooch loaf gained a lot of loft compared to control, the crumb was more even\n",
        "and open. Alveoli was less glossy. Picked up a slight savory flavor from the nooch, but not overwhelming. I think the bread would still work in sweet settings (with jam, etc). Overall, pretty good!\n",
        "\n",
        "[photo album](https://photos.app.goo.gl/R73vpf8ZAZ5Ham5H9)\n",
        "\n",
        "Unfortunately I slightly burned both loaves, and the ferment was a little too\n",
        "fast, owing to the hot temps in my house. I'd be interested in trying this again, esp. with a higher gluten content flour. Here I used KA unbleached AP (which I think is 13 or 14 percent gluten)"
      ]
    },
    {
      "cell_type": "code",
      "metadata": {
        "id": "mneu3aISBlKS",
        "colab_type": "code",
        "colab": {}
      },
      "source": [
        ""
      ],
      "execution_count": 9,
      "outputs": []
    }
  ]
}